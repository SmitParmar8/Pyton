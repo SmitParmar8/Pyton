{
 "cells": [
  {
   "cell_type": "markdown",
   "id": "05e9dec3",
   "metadata": {},
   "source": [
    "TCP:Transmission Control Protocol\n",
    "    It is connection orianted\n",
    "    It is relaiable\n",
    "    Ordered Delivery & gerentee of delivery\n",
    "    Slower to execute\n",
    "    Robust error checking & retransmission\n",
    "    it is a 3 way approch \n",
    "    Ex: web browse, Email, file transfer\n",
    "UDP:User Datagram Protocol\n",
    "    It is connection less\n",
    "    not that good basically\n",
    "    Whole/Not ordered delivery & not gerentee\n",
    "    Faster to execute\n",
    "    Basic error checking and No retransmission\n",
    "    Ex:streaming?Broadcasting, VoIP"
   ]
  },
  {
   "cell_type": "code",
   "execution_count": 4,
   "id": "0a4617b3",
   "metadata": {},
   "outputs": [
    {
     "name": "stdout",
     "output_type": "stream",
     "text": [
      "306A-166\n",
      "192.168.101.166\n"
     ]
    }
   ],
   "source": [
    "import socket\n",
    "host=socket.gethostname()\n",
    "ip=socket.gethostbyname(host)\n",
    "print(host)\n",
    "print(ip)"
   ]
  },
  {
   "cell_type": "code",
   "execution_count": null,
   "id": "85154a3d",
   "metadata": {},
   "outputs": [
    {
     "name": "stderr",
     "output_type": "stream",
     "text": [
      "UsageError: Line magic function `%%writefile` not found.\n"
     ]
    }
   ],
   "source": [
    "# TCP Server\n",
    "# Use below line if using jupyter notbook or else skip and write same code in .py file\n",
    "%%writefile TCP_Server.py\n",
    "# Code:\n",
    "import socket as S\n",
    "host=\"localhost\"\n",
    "port=3600\n",
    "sock=S.socket(S.AF_INET,S.SOCK_STREAM)\n",
    "sock.bind((host,port))\n",
    "sock.listen()\n",
    "print(\"Server is Started\")\n",
    "conn,add=sock.accept()\n",
    "while True:\n",
    "    data=conn.recv(1024).decode()\n",
    "    if data==\"CLOSE\":\n",
    "        break\n",
    "    print(\"Client Data:\",data)\n",
    "    msg=input(\"Server Data:\")\n",
    "    conn.send(msg.encode())\n",
    "conn.close()"
   ]
  },
  {
   "cell_type": "code",
   "execution_count": null,
   "id": "1ef3044c",
   "metadata": {},
   "outputs": [],
   "source": [
    "# TCP Client\n",
    "# Use below line if using jupyter notbook or else skip and write same code in .py file\n",
    "%%writefile TCP_Server.py\n",
    "# Code:\n",
    "import socket as S\n",
    "host=\"localhost\"\n",
    "port=3600\n",
    "csock=S.socket()\n",
    "csock.connect((host,port))\n",
    "while True:\n",
    "    msg=input(\"client Data\")\n",
    "    csock.send(msg.encode())\n",
    "    if msg==\"CLOSE\":\n",
    "        break\n",
    "    data=csock.recv(1024).decode()\n",
    "    print(\"server data:\",data)\n",
    "conn.close()"
   ]
  }
 ],
 "metadata": {
  "kernelspec": {
   "display_name": "Python 3",
   "language": "python",
   "name": "python3"
  },
  "language_info": {
   "codemirror_mode": {
    "name": "ipython",
    "version": 3
   },
   "file_extension": ".py",
   "mimetype": "text/x-python",
   "name": "python",
   "nbconvert_exporter": "python",
   "pygments_lexer": "ipython3",
   "version": "3.11.2"
  }
 },
 "nbformat": 4,
 "nbformat_minor": 5
}
